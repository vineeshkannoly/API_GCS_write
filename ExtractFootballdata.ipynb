{
 "cells": [
  {
   "cell_type": "code",
   "execution_count": 7,
   "id": "42549df2-0520-4fc4-820a-02008bf6adb1",
   "metadata": {
    "scrolled": true
   },
   "outputs": [
    {
     "name": "stdout",
     "output_type": "stream",
     "text": [
      "written to csv file\n"
     ]
    }
   ],
   "source": [
    "import requests\n",
    "import pandas as pd\n",
    "from google.cloud import storage\n",
    "import os \n",
    "\n",
    "#call the API\n",
    "#connect to the cloud\n",
    "\n",
    "response = requests.get(url, headers=headers)\n",
    "try: \n",
    "    response_dict = response.json()\n",
    "except:\n",
    "    print('NO DATA FROM API')\n",
    "    \n",
    " #Transforming the API data   \n",
    "df,df1,df2,df3=([],[],[],[])\n",
    "for i in range(0, (len(response_dict['result']))) :\n",
    "     df.append((response_dict['result'][i]['homeTeam']['name'] ))\n",
    "     df1.append((response_dict['result'][i]['awayTeam']['name'] ))\n",
    "     df2.append((response_dict['result'][i]['homeScore']['final'] ))\n",
    "     df3.append((response_dict['result'][i]['awayScore']['final'] ))\n",
    "\n",
    "df_stats = pd.DataFrame(df)    \n",
    "headers = [\"HOMETEAM\"]\n",
    "df_stats.columns = headers\n",
    "df_stats['AWAYTEAM'] = df1,df_stats['HOMESCORE'] = df2,df_stats['AWAYSCORE'] = df3\n",
    "csv_filename =\"scores.csv\"\n",
    "df_stats.to_csv(csv_filename,encoding='utf8',index=False,header=True)\n",
    "print(\"written to csv file\")\n",
    "\n",
    "#Write the data into cloud\n",
    "client = storage.Client()\n",
    "bucket = client.bucket('data-load-first')\n",
    "blob = bucket.blob('score_card')\n",
    "blob.upload_from_filename(csv_filename)\n"
   ]
  }
 ],
 "metadata": {
  "kernelspec": {
   "display_name": "Python 3 (ipykernel)",
   "language": "python",
   "name": "python3"
  },
  "language_info": {
   "codemirror_mode": {
    "name": "ipython",
    "version": 3
   },
   "file_extension": ".py",
   "mimetype": "text/x-python",
   "name": "python",
   "nbconvert_exporter": "python",
   "pygments_lexer": "ipython3",
   "version": "3.11.4"
  }
 },
 "nbformat": 4,
 "nbformat_minor": 5
}
